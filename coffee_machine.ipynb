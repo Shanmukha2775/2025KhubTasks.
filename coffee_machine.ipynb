{
  "nbformat": 4,
  "nbformat_minor": 0,
  "metadata": {
    "colab": {
      "provenance": [],
      "authorship_tag": "ABX9TyPNDfw1JAHJr2gveEqhrxal",
      "include_colab_link": true
    },
    "kernelspec": {
      "name": "python3",
      "display_name": "Python 3"
    },
    "language_info": {
      "name": "python"
    }
  },
  "cells": [
    {
      "cell_type": "markdown",
      "metadata": {
        "id": "view-in-github",
        "colab_type": "text"
      },
      "source": [
        "<a href=\"https://colab.research.google.com/github/Shanmukha2775/2025KhubTasks./blob/main/coffee_machine.ipynb\" target=\"_parent\"><img src=\"https://colab.research.google.com/assets/colab-badge.svg\" alt=\"Open In Colab\"/></a>"
      ]
    },
    {
      "cell_type": "code",
      "source": [
        "# Initial stock\n",
        "water = 500\n",
        "milk = 200\n",
        "coffee = 100\n",
        "money = 0.0\n",
        "\n",
        "while True:\n",
        "    print(\"\\nMenu: espresso ($1.5), latte ($2.5), cappuccino ($3.0)\")\n",
        "    choice = input(\"Enter your coffee choice or 'report' or 'off': \").lower()\n",
        "\n",
        "    if choice == \"off\":\n",
        "        print(\"Machine is shutting down...\")\n",
        "        break\n",
        "\n",
        "    if choice == \"report\":\n",
        "        print(\"Water:\", water, \"ml\")\n",
        "        print(\"Milk:\", milk, \"ml\")\n",
        "        print(\"Coffee:\", coffee, \"g\")\n",
        "        print(\"Money: $\", money)\n",
        "        continue\n",
        "\n",
        "    if choice == \"espresso\":\n",
        "        need_water = 50\n",
        "        need_milk = 0\n",
        "        need_coffee = 18\n",
        "        price = 1.5\n",
        "\n",
        "    elif choice == \"latte\":\n",
        "        need_water = 200\n",
        "        need_milk = 150\n",
        "        need_coffee = 24\n",
        "        price = 2.5\n",
        "\n",
        "    elif choice == \"cappuccino\":\n",
        "        need_water = 250\n",
        "        need_milk = 100\n",
        "        need_coffee = 24\n",
        "        price = 3.0\n",
        "\n",
        "    else:\n",
        "        print(\"Invalid choice.\")\n",
        "        continue\n",
        "\n",
        "    # Ingredient checks one by one with names\n",
        "    if water < need_water:\n",
        "        print(\"Sorry, not enough water.\")\n",
        "        continue\n",
        "    if milk < need_milk:\n",
        "        print(\"Sorry, not enough milk.\")\n",
        "        continue\n",
        "    if coffee < need_coffee:\n",
        "        print(\"Sorry, not enough coffee.\")\n",
        "        continue\n",
        "\n",
        "    # Collect coins\n",
        "    print(\"Insert coins:\")\n",
        "    q = int(input(\"Quarters (0.25)? \"))\n",
        "    d = int(input(\"Dimes (0.10)? \"))\n",
        "    n = int(input(\"Nickels (0.05)? \"))\n",
        "    p = int(input(\"Pennies (0.01)? \"))\n",
        "    total = q * 0.25 + d * 0.10 + n * 0.05 + p * 0.01\n",
        "\n",
        "    if total < price:\n",
        "        print(\"Not enough money. Refunding...\")\n",
        "        continue\n",
        "\n",
        "    change = round(total - price, 2)\n",
        "    if change > 0:\n",
        "        print(\"Returning change: $\", change)\n",
        "\n",
        "    # Update stock\n",
        "    water -= need_water\n",
        "    milk -= need_milk\n",
        "    coffee -= need_coffee\n",
        "    money += price\n",
        "\n",
        "    print(\"Here is your\", choice + \". Enjoy! \")\n"
      ],
      "metadata": {
        "colab": {
          "base_uri": "https://localhost:8080/"
        },
        "id": "Ci3nzs0E1v5e",
        "outputId": "51cc750f-0b72-4c26-e71c-213c3950f9da"
      },
      "execution_count": 24,
      "outputs": [
        {
          "output_type": "stream",
          "name": "stdout",
          "text": [
            "\n",
            "Menu: espresso ($1.5), latte ($2.5), cappuccino ($3.0)\n",
            "Enter your coffee choice or 'report' or 'off': espresso\n",
            "Insert coins:\n",
            "Quarters (0.25)? 10\n",
            "Dimes (0.10)? 0\n",
            "Nickels (0.05)? 0\n",
            "Pennies (0.01)? 1\n",
            "Returning change: $ 1.01\n",
            "Here is your espresso. Enjoy! \n",
            "\n",
            "Menu: espresso ($1.5), latte ($2.5), cappuccino ($3.0)\n",
            "Enter your coffee choice or 'report' or 'off': report\n",
            "Water: 450 ml\n",
            "Milk: 200 ml\n",
            "Coffee: 82 g\n",
            "Money: $ 1.5\n",
            "\n",
            "Menu: espresso ($1.5), latte ($2.5), cappuccino ($3.0)\n",
            "Enter your coffee choice or 'report' or 'off': latte\n",
            "Insert coins:\n",
            "Quarters (0.25)? 12\n",
            "Dimes (0.10)? 3\n",
            "Nickels (0.05)? 1\n",
            "Pennies (0.01)? 0\n",
            "Returning change: $ 0.85\n",
            "Here is your latte. Enjoy! \n",
            "\n",
            "Menu: espresso ($1.5), latte ($2.5), cappuccino ($3.0)\n",
            "Enter your coffee choice or 'report' or 'off': report\n",
            "Water: 250 ml\n",
            "Milk: 50 ml\n",
            "Coffee: 58 g\n",
            "Money: $ 4.0\n",
            "\n",
            "Menu: espresso ($1.5), latte ($2.5), cappuccino ($3.0)\n",
            "Enter your coffee choice or 'report' or 'off': cappuccino\n",
            "Sorry, not enough milk.\n",
            "\n",
            "Menu: espresso ($1.5), latte ($2.5), cappuccino ($3.0)\n",
            "Enter your coffee choice or 'report' or 'off': off\n",
            "Machine is shutting down...\n"
          ]
        }
      ]
    },
    {
      "cell_type": "markdown",
      "source": [
        "This is a basic Coffee Machine project written in Python.\n",
        "\n",
        "The machine allows the user to select a drink: espresso, latte, or cappuccino.  \n",
        "It checks if enough ingredients (like water, milk, and coffee) are available.  \n",
        "Then it asks the user to insert coins, checks if the money is enough, and gives the drink.  \n",
        "If the user gives extra money, it returns the change.\n",
        "\n",
        "This project uses only simple Python basics:\n",
        "- Variables\n",
        "- Input and print\n",
        "- If-else conditions\n",
        "- While loop\n",
        "- arthimetic operations (+, -, *)\n",
        "\n",
        "This is a beginner-level project and is easy to understand\n"
      ],
      "metadata": {
        "id": "xCpOghSe8Bqk"
      }
    }
  ]
}