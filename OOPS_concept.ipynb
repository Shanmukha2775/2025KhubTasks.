{
  "nbformat": 4,
  "nbformat_minor": 0,
  "metadata": {
    "colab": {
      "provenance": [],
      "authorship_tag": "ABX9TyMvR34QRv43mPNPTIaF+ZVr",
      "include_colab_link": true
    },
    "kernelspec": {
      "name": "python3",
      "display_name": "Python 3"
    },
    "language_info": {
      "name": "python"
    }
  },
  "cells": [
    {
      "cell_type": "markdown",
      "metadata": {
        "id": "view-in-github",
        "colab_type": "text"
      },
      "source": [
        "<a href=\"https://colab.research.google.com/github/Shanmukha2775/2025KhubTasks./blob/main/OOPS_concept.ipynb\" target=\"_parent\"><img src=\"https://colab.research.google.com/assets/colab-badge.svg\" alt=\"Open In Colab\"/></a>"
      ]
    },
    {
      "cell_type": "markdown",
      "source": [
        "***OOPS Concept***\n",
        "\n",
        "1.Class and Objects\n",
        "\n",
        "2.Inheritance\n",
        "\n",
        "3.Polymorphism\n",
        "\n",
        "4.Abstraction\n",
        "\n",
        "5.Encapsulation"
      ],
      "metadata": {
        "id": "ZO4UTD1FcWvZ"
      }
    },
    {
      "cell_type": "markdown",
      "source": [
        "**Class**:\n",
        "\n",
        "A blue print or plan from which an object is created\n",
        "\n",
        "It is a collection of objects\n",
        "\n",
        "It is a collection of variables and functions(members)\n",
        "\n",
        "syntax:\n",
        "\n",
        "class class_name:\n",
        "\n",
        "           variables\n",
        "           functions\n",
        "***Object***:\n",
        "\n",
        "It is an instance of a class.\n",
        "\n",
        "It is an any real world entity\n",
        "\n",
        "syntax:\n",
        "\n",
        "      object_name=class_name\n",
        "\n",
        "\n"
      ],
      "metadata": {
        "id": "JBrQh1CmdnXa"
      }
    },
    {
      "cell_type": "code",
      "source": [
        "class Student:\n",
        "    def __init__(self, rno, name):\n",
        "        self.rno = rno\n",
        "        self.name = name\n",
        "\n",
        "    def write(self):\n",
        "        print(\"Roll No:\", self.rno)\n",
        "        print(\"Name:\", self.name)\n",
        "\n",
        "s1 = Student(10, \"Shannu\")\n",
        "s2 = Student(11, \"Aruna\")\n",
        "\n",
        "s1.write()\n",
        "s2.write()\n"
      ],
      "metadata": {
        "colab": {
          "base_uri": "https://localhost:8080/"
        },
        "id": "p78LwVL0n0xz",
        "outputId": "04a81dd5-8224-493c-8411-199fc85b07be"
      },
      "execution_count": null,
      "outputs": [
        {
          "output_type": "stream",
          "name": "stdout",
          "text": [
            "Roll No: 10\n",
            "Name: Shannu\n",
            "Roll No: 11\n",
            "Name: Aruna\n"
          ]
        }
      ]
    },
    {
      "cell_type": "markdown",
      "source": [
        "***Inheritance***:\n",
        "\n",
        "It creates a new class from old class\n",
        "\n",
        "Reusability\n",
        "\n",
        "\n",
        "Here old class is also known as(Parent,Base,Super)\n",
        "\n",
        "New class is known as(Child,Derived, Sub class)\n",
        "\n",
        "Types of Inheritance\n",
        "\n",
        "1)Single inheritance: one parent & one child class\n",
        "\n",
        "\n",
        "2)Multilevel  inheritance:level by level\n",
        "(Grand parent,parent, child classes)\n",
        "\n",
        "3)Multiple inheritance :\n",
        " Two or more, base or parent class,one child class\n",
        "\n",
        " 4)Hierarchical Inheritance: one parent class and multiple child classed\n"
      ],
      "metadata": {
        "id": "EsMIPopzpaDl"
      }
    },
    {
      "cell_type": "code",
      "source": [
        " #Single inheritance\n",
        "class Parent():\n",
        "   def display(self):\n",
        "    print (\"I am a parent\")\n",
        "class Child(Parent):\n",
        "  def displayc(self):\n",
        "    print(\"I am a child\")\n",
        "c=Child()\n",
        "c.displayc()\n",
        "c.display()\n"
      ],
      "metadata": {
        "colab": {
          "base_uri": "https://localhost:8080/"
        },
        "id": "2RK2WgUksKCm",
        "outputId": "e117bec7-e2b7-4995-a5ab-8e2330ee1d7b"
      },
      "execution_count": null,
      "outputs": [
        {
          "output_type": "stream",
          "name": "stdout",
          "text": [
            "I am a child\n",
            "I am a parent\n"
          ]
        }
      ]
    },
    {
      "cell_type": "code",
      "source": [
        "# Multilevel inheritance\n",
        "class Grandfather():\n",
        "  def displaygf(self):\n",
        "    print (\"I am grand father\")\n",
        "class Father(Grandfather):\n",
        "  def display(self):\n",
        "   print (\"I am a Father\")\n",
        "class Child(Father):\n",
        "  def displayc(self):\n",
        "    print(\"I am a child\")\n",
        "c=Child()\n",
        "c.displayc()\n",
        "c.display()\n",
        "c.displaygf()\n"
      ],
      "metadata": {
        "colab": {
          "base_uri": "https://localhost:8080/"
        },
        "id": "BEm2_Lll0R0W",
        "outputId": "02f0c552-6d34-435d-8b5f-6937c8f8bfca"
      },
      "execution_count": null,
      "outputs": [
        {
          "output_type": "stream",
          "name": "stdout",
          "text": [
            "I am a child\n",
            "I am a Father\n",
            "I am grand father\n"
          ]
        }
      ]
    },
    {
      "cell_type": "code",
      "source": [
        "#Multiple inheritance\n",
        "class Father():\n",
        "  def displayf(self):\n",
        "    print (\"I am Father\")\n",
        "class Mother():\n",
        "  def displaym(self):\n",
        "   print (\"I am a Mother\")\n",
        "class Child(Father,Mother):\n",
        "  def displayc(self):\n",
        "    print(\"I am a child\")\n",
        "c=Child()\n",
        "c.displayc()\n",
        "c.displaym()\n",
        "c.displayf()"
      ],
      "metadata": {
        "colab": {
          "base_uri": "https://localhost:8080/"
        },
        "id": "VCa124jg2PTc",
        "outputId": "c668fd1c-c547-4238-e953-5b4a83bbd3c0"
      },
      "execution_count": null,
      "outputs": [
        {
          "output_type": "stream",
          "name": "stdout",
          "text": [
            "I am a child\n",
            "I am a Mother\n",
            "I am Father\n"
          ]
        }
      ]
    },
    {
      "cell_type": "code",
      "source": [
        "#Hierarchial inheritance\n",
        "class Father():\n",
        "  def displayf(self):\n",
        "    print (\"I am Father\")\n",
        "class Child1(Father):\n",
        "  def display(self):\n",
        "   print (\"I am a child1\")\n",
        "class Child2(Father):\n",
        "  def displayc(self):\n",
        "    print(\"I am a child2\")\n",
        "c=Child1()\n",
        "c2=Child2()\n",
        "c.display()\n",
        "c.displayf()\n",
        "c2.displayc()\n",
        "c.displayf()"
      ],
      "metadata": {
        "colab": {
          "base_uri": "https://localhost:8080/"
        },
        "id": "iqbzmw653KRl",
        "outputId": "ad35b81d-14c9-4e48-f11d-988254e1a52a"
      },
      "execution_count": null,
      "outputs": [
        {
          "output_type": "stream",
          "name": "stdout",
          "text": [
            "I am a child1\n",
            "I am Father\n",
            "I am a child2\n",
            "I am Father\n"
          ]
        }
      ]
    },
    {
      "cell_type": "markdown",
      "source": [
        "***Encapsulation***:\n",
        "wrapping  of variables and methods into single unit\n",
        "\n",
        "Access Specifiers:\n",
        "\n",
        "public\n",
        "\n",
        "private\n",
        "\n",
        "protected"
      ],
      "metadata": {
        "id": "NCcCGrpb5v74"
      }
    },
    {
      "cell_type": "code",
      "source": [
        "class display():\n",
        "    def __init__(self, a, b):\n",
        "        self.__a = a     # private\n",
        "        self._b = b      # protected\n",
        "\n",
        "class demo(display):\n",
        "    def output(self):\n",
        "        print(self._b)\n",
        "\n",
        "d = demo(5, 6)\n",
        "d.output()\n"
      ],
      "metadata": {
        "id": "nSj0nWM4725O",
        "colab": {
          "base_uri": "https://localhost:8080/"
        },
        "outputId": "1a337211-79dc-42c4-dd74-e79fe7a91429"
      },
      "execution_count": 3,
      "outputs": [
        {
          "output_type": "stream",
          "name": "stdout",
          "text": [
            "6\n"
          ]
        }
      ]
    },
    {
      "cell_type": "markdown",
      "source": [
        "***Polymorphism:***\n",
        "\n",
        "poly-many\n",
        "\n",
        "morph-forms"
      ],
      "metadata": {
        "id": "yZnchcmK73e5"
      }
    },
    {
      "cell_type": "code",
      "source": [
        "def add(a, b):\n",
        "    print(a + b)\n",
        "\n",
        "add(5, 3)\n",
        "add('p', 'q')\n",
        "add([5, 7], [7, 3])\n"
      ],
      "metadata": {
        "id": "Os0LBUXJ8TpE",
        "colab": {
          "base_uri": "https://localhost:8080/"
        },
        "outputId": "bc272cfb-0fea-4f95-f0d7-224c86511abb"
      },
      "execution_count": 4,
      "outputs": [
        {
          "output_type": "stream",
          "name": "stdout",
          "text": [
            "8\n",
            "pq\n",
            "[5, 7, 7, 3]\n"
          ]
        }
      ]
    },
    {
      "cell_type": "markdown",
      "source": [
        "***Data Abstraction:***\n",
        "\n",
        "The process of hiding the real implementation of an application from the user and emphasizing only on usage of it"
      ],
      "metadata": {
        "id": "4PisCraL8UrD"
      }
    },
    {
      "cell_type": "code",
      "source": [
        "from abc import ABC, abstractmethod\n",
        "\n",
        "class Shape(ABC):\n",
        "    @abstractmethod\n",
        "    def area(self):\n",
        "        pass\n",
        "\n",
        "class Rectangle(Shape):\n",
        "    def __init__(self, length, width):\n",
        "        self.length = length\n",
        "        self.width = width\n",
        "\n",
        "    def area(self):\n",
        "        return self.length * self.width\n",
        "\n",
        "r = Rectangle(5, 3)\n",
        "print(r.area())\n"
      ],
      "metadata": {
        "colab": {
          "base_uri": "https://localhost:8080/"
        },
        "id": "gv5gFu2yNy-i",
        "outputId": "0c594d45-787b-4637-914b-65aa3add518f"
      },
      "execution_count": 5,
      "outputs": [
        {
          "output_type": "stream",
          "name": "stdout",
          "text": [
            "15\n"
          ]
        }
      ]
    }
  ]
}