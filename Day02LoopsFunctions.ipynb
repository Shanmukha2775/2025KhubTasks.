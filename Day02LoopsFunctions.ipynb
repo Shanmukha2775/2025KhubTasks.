{
  "nbformat": 4,
  "nbformat_minor": 0,
  "metadata": {
    "colab": {
      "provenance": [],
      "authorship_tag": "ABX9TyMPKbHdZnHufdn0YDrGKHf6",
      "include_colab_link": true
    },
    "kernelspec": {
      "name": "python3",
      "display_name": "Python 3"
    },
    "language_info": {
      "name": "python"
    }
  },
  "cells": [
    {
      "cell_type": "markdown",
      "metadata": {
        "id": "view-in-github",
        "colab_type": "text"
      },
      "source": [
        "<a href=\"https://colab.research.google.com/github/Shanmukha2775/2025KhubTasks./blob/main/Day02LoopsFunctions.ipynb\" target=\"_parent\"><img src=\"https://colab.research.google.com/assets/colab-badge.svg\" alt=\"Open In Colab\"/></a>"
      ]
    },
    {
      "cell_type": "markdown",
      "source": [
        "🔁 Loops – Main Topics\n",
        "\n",
        "1. for Loop\n",
        "\n",
        "Syntax and usage with range()\n",
        "\n",
        "Iterating over lists, strings, tuples, etc.\n",
        "\n",
        "\n",
        "\n",
        "2. while Loop\n",
        "\n",
        "Repeating code while a condition is true\n",
        "\n",
        "\n",
        "\n",
        "3. Loop Control Statements\n",
        "\n",
        "break – stop the loop\n",
        "\n",
        "continue – skip the current iteration\n",
        "\n",
        "pass – do nothing (used as placeholder)\n",
        "\n",
        "\n",
        "\n",
        "4. Loop with else\n",
        "\n",
        "Executed only if loop completes without break\n",
        "\n",
        "\n",
        "\n",
        "5. Nested Loops\n",
        "\n",
        "Loops inside loops (e.g., for printing patterns)\n",
        "\n",
        "\n",
        "\n",
        "\n",
        "\n",
        "---\n",
        "\n",
        "🔧 Functions – Main Topics\n",
        "\n",
        "1. Defining and Calling Functions\n",
        "\n",
        "Using def keyword\n",
        "\n",
        "Understanding return\n",
        "\n",
        "\n",
        "\n",
        "2. Function Arguments\n",
        "\n",
        "Positional\n",
        "\n",
        "Default\n",
        "\n",
        "Keyword\n",
        "\n",
        "*args and **kwargs for variable number of arguments\n",
        "\n",
        "\n",
        "\n",
        "3. Scope of Variables\n",
        "\n",
        "Local vs Global variables\n",
        "\n",
        "global keyword usage\n",
        "\n",
        "\n",
        "\n",
        "4. Lambda Functions\n",
        "\n",
        "Anonymous one-line functions\n",
        "\n",
        "Usage with map(), filter(), etc."
      ],
      "metadata": {
        "id": "94PfgEzXR1Ax"
      }
    },
    {
      "cell_type": "markdown",
      "source": [
        "**Loops in Python**\n",
        "\n",
        "Loops help us repeat a set of instructions without writing them again and again.\n",
        "\n",
        "***1.for Loop***\n",
        "\n",
        "Used to repeat code a fixed number of times or iterate over a sequence (list, tuple, string, etc.).\n",
        "\n",
        "range() is often used to generate a sequence of numbers.\n",
        "\n",
        "Syntax:\n",
        "   \n",
        "   for variable in sequence:\n",
        "    \n",
        "\n",
        "\n",
        "\n"
      ],
      "metadata": {
        "id": "wzJQOGZCfZkC"
      }
    },
    {
      "cell_type": "code",
      "source": [
        "# Example 1: Using range()\n",
        "for i in range(5):\n",
        "    print(i)\n",
        "\n",
        "# Example 2: Iterating over a list\n",
        "fruits = [\"apple\", \"banana\", \"cherry\"]\n",
        "for fruit in fruits:\n",
        "    print(fruit)\n"
      ],
      "metadata": {
        "colab": {
          "base_uri": "https://localhost:8080/"
        },
        "id": "VVxjQkpgiYrq",
        "outputId": "2521741e-a951-475a-8b95-73aa7edd5caf"
      },
      "execution_count": null,
      "outputs": [
        {
          "output_type": "stream",
          "name": "stdout",
          "text": [
            "0\n",
            "1\n",
            "2\n",
            "3\n",
            "4\n",
            "apple\n",
            "banana\n",
            "cherry\n"
          ]
        }
      ]
    },
    {
      "cell_type": "markdown",
      "source": [
        "***2. while Loop***\n",
        "\n",
        "\n",
        "Repeats code while a condition is True.\n",
        "\n",
        "Useful when the number of repetitions is not known in advance.\n",
        "\n",
        "Syntax:\n",
        "\n",
        "while condition:"
      ],
      "metadata": {
        "id": "oy_mS4M8ij-X"
      }
    },
    {
      "cell_type": "code",
      "source": [
        "count = 1\n",
        "while count <= 5:\n",
        "    print(\"Count:\", count)\n",
        "    count += 1\n"
      ],
      "metadata": {
        "colab": {
          "base_uri": "https://localhost:8080/"
        },
        "id": "ONnbdCKoiy_j",
        "outputId": "7db5438a-9d9a-4523-a034-fabdfa86731e"
      },
      "execution_count": null,
      "outputs": [
        {
          "output_type": "stream",
          "name": "stdout",
          "text": [
            "Count: 1\n",
            "Count: 2\n",
            "Count: 3\n",
            "Count: 4\n",
            "Count: 5\n"
          ]
        }
      ]
    },
    {
      "cell_type": "markdown",
      "source": [
        "**3. Loop Control Statements**\n",
        "\n",
        "break → stops the loop completely.\n",
        "\n",
        "continue → skips the current iteration and moves to the next.\n",
        "\n",
        "pass → does nothing, used as a placeholder.\n",
        "\n"
      ],
      "metadata": {
        "id": "ICfzQbbJjS7e"
      }
    },
    {
      "cell_type": "code",
      "source": [
        "# break\n",
        "for i in range(10):\n",
        "    if i == 5:\n",
        "        break\n",
        "    print(i)\n",
        "\n",
        "# continue\n",
        "for i in range(6):\n",
        "    if i == 3:\n",
        "        continue\n",
        "    print(i)\n",
        "\n",
        "# pass\n",
        "for i in range(3):\n",
        "    pass\n",
        "print(\"Loop completed with pass\")\n"
      ],
      "metadata": {
        "colab": {
          "base_uri": "https://localhost:8080/"
        },
        "id": "N8XdFccOjil7",
        "outputId": "3d2d99d1-fce3-4807-c8f5-669460ccb318"
      },
      "execution_count": null,
      "outputs": [
        {
          "output_type": "stream",
          "name": "stdout",
          "text": [
            "0\n",
            "1\n",
            "2\n",
            "3\n",
            "4\n",
            "0\n",
            "1\n",
            "2\n",
            "4\n",
            "5\n",
            "Loop completed with pass\n"
          ]
        }
      ]
    },
    {
      "cell_type": "markdown",
      "source": [
        "***4. Loop with else***\n",
        "\n",
        "else block runs only if the loop finishes normally (no break).\n",
        "\n"
      ],
      "metadata": {
        "id": "F6jQz7U0j1y2"
      }
    },
    {
      "cell_type": "code",
      "source": [
        "for i in range(5):\n",
        "    print(i)\n",
        "else:\n",
        "    print(\"Loop finished without break\")\n"
      ],
      "metadata": {
        "colab": {
          "base_uri": "https://localhost:8080/"
        },
        "id": "qMCx-TQPj_di",
        "outputId": "0b22e1ed-0cba-450a-eab6-8ec4ffae8fb7"
      },
      "execution_count": null,
      "outputs": [
        {
          "output_type": "stream",
          "name": "stdout",
          "text": [
            "0\n",
            "1\n",
            "2\n",
            "3\n",
            "4\n",
            "Loop finished without break\n"
          ]
        }
      ]
    },
    {
      "cell_type": "markdown",
      "source": [
        "***5. Nested Loops***\n",
        "\n",
        "A loop inside another loop.\n",
        "\n",
        "Commonly used for patterns, matrices, or multiple levels of iteration.\n",
        "\n"
      ],
      "metadata": {
        "id": "aalVG1HPkTW7"
      }
    },
    {
      "cell_type": "code",
      "source": [
        "for i in range(1, 6):\n",
        "    for j in range(i):\n",
        "        print(\"*\", end=\"\")\n",
        "    print()"
      ],
      "metadata": {
        "colab": {
          "base_uri": "https://localhost:8080/"
        },
        "id": "wPEugS-hkYp1",
        "outputId": "30e0e5fb-2ac4-4893-fa9b-801be101b8bb"
      },
      "execution_count": null,
      "outputs": [
        {
          "output_type": "stream",
          "name": "stdout",
          "text": [
            "*\n",
            "**\n",
            "***\n",
            "****\n",
            "*****\n"
          ]
        }
      ]
    },
    {
      "cell_type": "markdown",
      "source": [
        "***Functions***\n",
        "1. Defining and Calling Functions\n",
        "Function → Group of code that runs when called.\n",
        "\n",
        "We use def keyword to create a function.\n",
        "\n",
        "return → sends a value back to where the function was called.\n",
        "\n",
        "python\n",
        "Copy code\n"
      ],
      "metadata": {
        "id": "hWEwqVARl3jA"
      }
    },
    {
      "cell_type": "code",
      "source": [
        "#calling a function\n",
        "def say_hello():\n",
        "    print(\"Hello!\")\n",
        "\n",
        "say_hello()\n"
      ],
      "metadata": {
        "colab": {
          "base_uri": "https://localhost:8080/"
        },
        "id": "bvxOFE-IlT4f",
        "outputId": "e9775396-3ba1-4324-ee16-1fa6766e7cec"
      },
      "execution_count": 28,
      "outputs": [
        {
          "output_type": "stream",
          "name": "stdout",
          "text": [
            "Hello!\n"
          ]
        }
      ]
    },
    {
      "cell_type": "code",
      "source": [
        "def add(a, b):\n",
        "    return a + b\n",
        "\n",
        "print(add(2, 3))\n"
      ],
      "metadata": {
        "colab": {
          "base_uri": "https://localhost:8080/"
        },
        "id": "fTFh-WEWlfxA",
        "outputId": "a7827e8b-aab7-453a-b9a1-a4ec74f4ddee"
      },
      "execution_count": 2,
      "outputs": [
        {
          "output_type": "stream",
          "name": "stdout",
          "text": [
            "5\n"
          ]
        }
      ]
    },
    {
      "cell_type": "markdown",
      "source": [
        "**2.Function Arguments:**\n",
        "\n",
        "Arguments are values we send to the function.\n",
        "\n",
        "Types of arguments:\n",
        "\n",
        "Positional – values in order\n",
        "\n",
        "Default – value if nothing is given\n",
        "\n",
        "Keyword – mention name\n",
        "\n",
        "*args / **kwargs – many values\n",
        "\n"
      ],
      "metadata": {
        "id": "1L9pF0PMlpiT"
      }
    },
    {
      "cell_type": "code",
      "source": [
        "#Positional\n",
        "def greet(name, age):\n",
        "    print(\"Name:\", name)\n",
        "    print(\"Age:\", age)\n",
        "\n",
        "greet(\"Aruna\", 20)\n"
      ],
      "metadata": {
        "colab": {
          "base_uri": "https://localhost:8080/"
        },
        "id": "Xao0EAdZmJLd",
        "outputId": "a1014c34-b8c5-4f74-e21c-fc6e3bc8f619"
      },
      "execution_count": 6,
      "outputs": [
        {
          "output_type": "stream",
          "name": "stdout",
          "text": [
            "Name: Aruna\n",
            "Age: 20\n"
          ]
        }
      ]
    },
    {
      "cell_type": "code",
      "source": [
        "#Default\n",
        "def greet(name=\"Friend\"):\n",
        "    print(\"Hello\", name)\n",
        "\n",
        "greet()\n",
        "greet(\"shannu\")\n"
      ],
      "metadata": {
        "colab": {
          "base_uri": "https://localhost:8080/"
        },
        "id": "_KUZ2XLxmk03",
        "outputId": "814621bc-7b28-4d52-c814-f2a74f182426"
      },
      "execution_count": 5,
      "outputs": [
        {
          "output_type": "stream",
          "name": "stdout",
          "text": [
            "Hello Friend\n",
            "Hello shannu\n"
          ]
        }
      ]
    },
    {
      "cell_type": "code",
      "source": [
        "#Key word\n",
        "greet(age=18, name=\"purna\")\n"
      ],
      "metadata": {
        "colab": {
          "base_uri": "https://localhost:8080/"
        },
        "id": "M1zVvBWSnbAK",
        "outputId": "3ecbb6c3-f3d1-42d7-fe4c-080537680c47"
      },
      "execution_count": 8,
      "outputs": [
        {
          "output_type": "stream",
          "name": "stdout",
          "text": [
            "Name: purna\n",
            "Age: 18\n"
          ]
        }
      ]
    },
    {
      "cell_type": "code",
      "source": [
        "#args and **kwargs:\n",
        "def total_marks(*marks):\n",
        "    print(\"Total:\", sum(marks))\n",
        "\n",
        "total_marks(80, 90, 75)\n"
      ],
      "metadata": {
        "colab": {
          "base_uri": "https://localhost:8080/"
        },
        "id": "H6VewWgYoHDF",
        "outputId": "b90376b0-4ac9-44e4-e0dd-d465ffb36a1a"
      },
      "execution_count": 9,
      "outputs": [
        {
          "output_type": "stream",
          "name": "stdout",
          "text": [
            "Total: 245\n"
          ]
        }
      ]
    },
    {
      "cell_type": "code",
      "source": [
        "def student_info(**info):\n",
        "    print(info)\n",
        "\n",
        "student_info(name=\"Sailu\", age=19)\n"
      ],
      "metadata": {
        "colab": {
          "base_uri": "https://localhost:8080/"
        },
        "id": "92xREy67obau",
        "outputId": "3bbef170-d85b-4f30-9394-489882e947c0"
      },
      "execution_count": 11,
      "outputs": [
        {
          "output_type": "stream",
          "name": "stdout",
          "text": [
            "{'name': 'Sailu', 'age': 19}\n"
          ]
        }
      ]
    },
    {
      "cell_type": "markdown",
      "source": [
        "***3. Scope of Variables***\n",
        "\n",
        "Local Variable: Inside function, works only there.\n",
        "\n",
        "Global Variable: Outside function, works everywhere.\n",
        "\n",
        "Use global keyword to access outer variable inside."
      ],
      "metadata": {
        "id": "g9tDN7g5ozOQ"
      }
    },
    {
      "cell_type": "code",
      "source": [
        "x = 56 # Global\n",
        "\n",
        "def show():\n",
        "    y = 5  # Local\n",
        "    print(x, y)\n",
        "\n",
        "show()\n"
      ],
      "metadata": {
        "colab": {
          "base_uri": "https://localhost:8080/"
        },
        "id": "Wf_CSl8mo_RI",
        "outputId": "42c9091e-dccb-4dd9-bebf-3552a5f20367"
      },
      "execution_count": 17,
      "outputs": [
        {
          "output_type": "stream",
          "name": "stdout",
          "text": [
            "56 5\n"
          ]
        }
      ]
    },
    {
      "cell_type": "code",
      "source": [
        "count =13245\n",
        "\n",
        "def increase():\n",
        "    global count\n",
        "    count += 1\n",
        "\n",
        "increase()\n",
        "print(count)\n"
      ],
      "metadata": {
        "colab": {
          "base_uri": "https://localhost:8080/"
        },
        "id": "8A1SqGS5r66V",
        "outputId": "22510591-8b8f-4f0a-e7da-ed61e9a3676b"
      },
      "execution_count": 15,
      "outputs": [
        {
          "output_type": "stream",
          "name": "stdout",
          "text": [
            "13246\n"
          ]
        }
      ]
    },
    {
      "cell_type": "markdown",
      "source": [
        "***4. Lambda Functions***\n",
        "\n",
        "Lambda function is a short, one-line function without def.\n",
        "\n",
        "Syntax: lambda arguments: expression"
      ],
      "metadata": {
        "id": "wVx7TCmutTco"
      }
    },
    {
      "cell_type": "code",
      "source": [
        "square = lambda x: x * x\n",
        "print(square(3456))\n"
      ],
      "metadata": {
        "colab": {
          "base_uri": "https://localhost:8080/"
        },
        "id": "bObAQpGKtdDm",
        "outputId": "b1f7cc62-2f9a-4bff-b9a6-cf58c43e16df"
      },
      "execution_count": 23,
      "outputs": [
        {
          "output_type": "stream",
          "name": "stdout",
          "text": [
            "11943936\n"
          ]
        }
      ]
    },
    {
      "cell_type": "code",
      "source": [
        "#map()\n",
        "nums = [1, 2, 3]\n",
        "squares = list(map(lambda x: x**2, nums))\n",
        "print(squares)  #\n"
      ],
      "metadata": {
        "colab": {
          "base_uri": "https://localhost:8080/"
        },
        "id": "WfWceOD7uY4a",
        "outputId": "c80238cb-f427-4d1e-b7f9-44379bab81f3"
      },
      "execution_count": 26,
      "outputs": [
        {
          "output_type": "stream",
          "name": "stdout",
          "text": [
            "[1, 4, 9]\n"
          ]
        }
      ]
    },
    {
      "cell_type": "code",
      "source": [
        "#filter()\n",
        "nums = [1, 2, 3, 4, 5]\n",
        "evens = list(filter(lambda x: x % 2 == 0, nums))\n",
        "print(evens)\n"
      ],
      "metadata": {
        "colab": {
          "base_uri": "https://localhost:8080/"
        },
        "id": "MuQEBotuud5U",
        "outputId": "5e21786d-3d05-4d55-f770-4c38df12d7ec"
      },
      "execution_count": 27,
      "outputs": [
        {
          "output_type": "stream",
          "name": "stdout",
          "text": [
            "[2, 4]\n"
          ]
        }
      ]
    }
  ]
}