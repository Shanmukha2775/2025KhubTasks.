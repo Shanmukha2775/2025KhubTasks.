{
  "nbformat": 4,
  "nbformat_minor": 0,
  "metadata": {
    "colab": {
      "provenance": [],
      "authorship_tag": "ABX9TyMmUGYW7HJD4lVyTbQ0Jbl0",
      "include_colab_link": true
    },
    "kernelspec": {
      "name": "python3",
      "display_name": "Python 3"
    },
    "language_info": {
      "name": "python"
    }
  },
  "cells": [
    {
      "cell_type": "markdown",
      "metadata": {
        "id": "view-in-github",
        "colab_type": "text"
      },
      "source": [
        "<a href=\"https://colab.research.google.com/github/Shanmukha2775/2025KhubTasks./blob/main/Day01PythonBasics.ipynb\" target=\"_parent\"><img src=\"https://colab.research.google.com/assets/colab-badge.svg\" alt=\"Open In Colab\"/></a>"
      ]
    },
    {
      "cell_type": "markdown",
      "source": [
        "# Day 01 - Python Basics\n",
        "\n",
        "1. Strings and String Methods, Booleans and Operators\n",
        "2. Lists, Tuples, Sets, and Dictionaries\n",
        "3. Conditional Statements\n",
        "4. Match Case\n"
      ],
      "metadata": {
        "id": "EAcPtK84bS1y"
      }
    },
    {
      "cell_type": "markdown",
      "source": [
        "**Strings**\n",
        "\n",
        "A string is text inside quotes.\n",
        "Strings can be single quotes (' '), double quotes (\" \"), or triple quotes (''' ''') for multiple lines.\n",
        "\n",
        "\n"
      ],
      "metadata": {
        "id": "JZeuVx_6cwLm"
      }
    },
    {
      "cell_type": "code",
      "source": [
        "# Strings in Python\n",
        "Name = \"Shanmukha\""
      ],
      "metadata": {
        "id": "NVtXMbGOdBZY"
      },
      "execution_count": null,
      "outputs": []
    },
    {
      "cell_type": "markdown",
      "source": [
        "**String Methods**\n",
        "\n",
        "Methods are actions we can perform on strings."
      ],
      "metadata": {
        "id": "c9Mge1dHeSMe"
      }
    },
    {
      "cell_type": "code",
      "source": [
        "# String Methods\n",
        "text = \"Hello World!\"\n",
        "print(\"Uppercase:\", text.upper())\n",
        "print(\"Lowercase:\", text.lower())\n",
        "print(\"Strip:\", text.strip())\n",
        "print(\"Replace:\", text.replace(\"World\", \"All\"))\n",
        "print(\"Split:\", text.split())\n",
        "print(\"Find position of 'World':\", text.find(\"World\"))\n",
        "print(\"Starts with 'He':\", text.startswith(\"He\"))\n",
        "print(\"Ends with '!':\", text.endswith(\"!\"))\n"
      ],
      "metadata": {
        "colab": {
          "base_uri": "https://localhost:8080/"
        },
        "id": "RT7R5EO3e77w",
        "outputId": "97ec9725-bbcb-4332-a6d9-a6f14a14b8fc"
      },
      "execution_count": null,
      "outputs": [
        {
          "output_type": "stream",
          "name": "stdout",
          "text": [
            "Uppercase: HELLO WORLD!\n",
            "Lowercase: hello world!\n",
            "Strip: Hello World!\n",
            "Replace: Hello All!\n",
            "Split: ['Hello', 'World!']\n",
            "Find position of 'World': 6\n",
            "Starts with 'He': True\n",
            "Ends with '!': True\n"
          ]
        }
      ]
    },
    {
      "cell_type": "markdown",
      "source": [
        "**Booleans**\n",
        "\n",
        "Booleans have only True or False values."
      ],
      "metadata": {
        "id": "FB3DX2yUfgmy"
      }
    },
    {
      "cell_type": "code",
      "source": [
        "#Boolean\n",
        "x = 5\n",
        "y = 10\n",
        "print(x > y)\n",
        "print(x < y)\n"
      ],
      "metadata": {
        "colab": {
          "base_uri": "https://localhost:8080/"
        },
        "id": "ZFTbEozDfqp5",
        "outputId": "21ab6743-a881-42d9-dcb7-c0b9c6697747"
      },
      "execution_count": null,
      "outputs": [
        {
          "output_type": "stream",
          "name": "stdout",
          "text": [
            "False\n",
            "True\n"
          ]
        }
      ]
    },
    {
      "cell_type": "markdown",
      "source": [
        "**Operators**"
      ],
      "metadata": {
        "id": "gGgwO34Ef__O"
      }
    },
    {
      "cell_type": "code",
      "source": [
        "a, b = 7, 3\n",
        "\n",
        "# 1. Arithmetic Operators (Math calculations)\n",
        "print(\"Add:\", a + b)\n",
        "print(\"Subtract:\", a - b)\n",
        "print(\"Multiply:\", a * b)\n",
        "print(\"Divide:\", a / b)\n",
        "print(\"Modulus:\", a % b)\n",
        "print(\"Power:\", a ** b)\n",
        "print(\"Floor Division:\", a // b)\n",
        "\n",
        "# 2. Assignment Operators (Assign values)\n",
        "x = 5\n",
        "x += 3\n",
        "x -= 2\n",
        "x *= 2\n",
        "print(\"x after changes:\", x)\n",
        "\n",
        "# 3. Comparison Operators (True/False check)\n",
        "print(a == b)\n",
        "print(a != b)\n",
        "print(a > b)\n",
        "print(a < b)\n",
        "print(a >= b)\n",
        "print(a <= b)\n",
        "\n",
        "# 4. Logical Operators (Combine conditions)\n",
        "print(True and False)\n",
        "print(True or False)\n",
        "print(not True)\n",
        "\n",
        "# 5. Identity Operators (Same memory?)\n",
        "print(a is b)\n",
        "print(a is not b)\n",
        "\n",
        "# 6. Membership Operators (Value present?)\n",
        "numbers = [1, 2, 3]\n",
        "print(2 in numbers)\n",
        "print(5 not in numbers)\n",
        "\n",
        "# 7. Bitwise Operators (Work on binary numbers)\n",
        "print(a & b)\n",
        "print(a | b)\n",
        "print(a ^ b)\n",
        "print(~a)\n",
        "print(a << 1)\n",
        "print(a >> 1)\n"
      ],
      "metadata": {
        "colab": {
          "base_uri": "https://localhost:8080/"
        },
        "id": "nxKjOPr6gP0L",
        "outputId": "9651e59c-2054-4372-b5fb-6000c1990193"
      },
      "execution_count": null,
      "outputs": [
        {
          "output_type": "stream",
          "name": "stdout",
          "text": [
            "Add: 10\n",
            "Subtract: 4\n",
            "Multiply: 21\n",
            "Divide: 2.3333333333333335\n",
            "Modulus: 1\n",
            "Power: 343\n",
            "Floor Division: 2\n",
            "x after changes: 12\n",
            "False\n",
            "True\n",
            "True\n",
            "False\n",
            "True\n",
            "False\n",
            "False\n",
            "True\n",
            "False\n",
            "False\n",
            "True\n",
            "True\n",
            "True\n",
            "3\n",
            "7\n",
            "4\n",
            "-8\n",
            "14\n",
            "3\n"
          ]
        }
      ]
    },
    {
      "cell_type": "markdown",
      "source": [
        "**List**\n",
        "\n",
        "Ordered, changeable, allows duplicates.\n",
        "\n",
        "\n"
      ],
      "metadata": {
        "id": "DS-Dg6jJhtDM"
      }
    },
    {
      "cell_type": "code",
      "source": [
        "# Lists\n",
        "fruits = [\"apple\", \"banana\", \"cherry\"]\n",
        "print(\"Fruits List:\", fruits)\n",
        "fruits.append(\"mango\")\n",
        "print(\"After append:\", fruits)\n",
        "fruits.remove(\"banana\")\n",
        "print(\"After remove:\", fruits)\n",
        "print(\"First Fruit:\", fruits[0])\n"
      ],
      "metadata": {
        "colab": {
          "base_uri": "https://localhost:8080/"
        },
        "id": "iun5pvIch0t6",
        "outputId": "8ca644f7-6b09-4837-e5ea-1ed164b9b5db"
      },
      "execution_count": null,
      "outputs": [
        {
          "output_type": "stream",
          "name": "stdout",
          "text": [
            "Fruits List: ['apple', 'banana', 'cherry']\n",
            "After append: ['apple', 'banana', 'cherry', 'mango']\n",
            "After remove: ['apple', 'cherry', 'mango']\n",
            "First Fruit: apple\n"
          ]
        }
      ]
    },
    {
      "cell_type": "markdown",
      "source": [
        "**Tuples**\n",
        "\n",
        "Ordered, unchangeable, allows duplicates.\n",
        "\n",
        "\n",
        "\n"
      ],
      "metadata": {
        "id": "5xRxUZ4yiW9t"
      }
    },
    {
      "cell_type": "code",
      "source": [
        "# Tuples\n",
        "colors = (\"red\", \"green\", \"blue\")\n",
        "print(\"Colors Tuple:\", colors)\n",
        "print(\"First Color:\", colors[0])\n"
      ],
      "metadata": {
        "colab": {
          "base_uri": "https://localhost:8080/"
        },
        "id": "21mt4N_6ifg3",
        "outputId": "250c86fd-f169-46b2-85e1-c673495391e8"
      },
      "execution_count": null,
      "outputs": [
        {
          "output_type": "stream",
          "name": "stdout",
          "text": [
            "Colors Tuple: ('red', 'green', 'blue')\n",
            "First Color: red\n"
          ]
        }
      ]
    },
    {
      "cell_type": "markdown",
      "source": [
        "**Sets**\n",
        "\n",
        "Unordered, no duplicates."
      ],
      "metadata": {
        "id": "fK-ka2nXjDWd"
      }
    },
    {
      "cell_type": "code",
      "source": [
        "# Sets\n",
        "numbers = {1, 2, 3, 4}\n",
        "print(\"Numbers Set:\", numbers)\n",
        "numbers.add(5)\n",
        "print(\"After add:\", numbers)\n",
        "numbers.remove(3)\n",
        "print(\"After remove:\", numbers)\n"
      ],
      "metadata": {
        "colab": {
          "base_uri": "https://localhost:8080/"
        },
        "id": "fvTjuma8jJ5J",
        "outputId": "e1ccadd4-9d1e-49f1-9dcc-229a1fb49d7b"
      },
      "execution_count": null,
      "outputs": [
        {
          "output_type": "stream",
          "name": "stdout",
          "text": [
            "Numbers Set: {1, 2, 3, 4}\n",
            "After add: {1, 2, 3, 4, 5}\n",
            "After remove: {1, 2, 4, 5}\n"
          ]
        }
      ]
    },
    {
      "cell_type": "markdown",
      "source": [
        "**Dictionaries**\n",
        "\n",
        "Stores data in key-value pairs."
      ],
      "metadata": {
        "id": "RJrQ_lozjeux"
      }
    },
    {
      "cell_type": "code",
      "source": [
        "# Dictionaries\n",
        "student = {\"name\": \"Shanmukha\", \"age\": 18}\n",
        "print(\"Student Data:\", student)\n",
        "print(\"Name:\", student[\"name\"])\n",
        "student[\"age\"] = 19\n",
        "print(\"Updated Data:\", student)\n"
      ],
      "metadata": {
        "colab": {
          "base_uri": "https://localhost:8080/"
        },
        "id": "IF65gq0PjjdV",
        "outputId": "f47370d3-c382-41d0-9792-68f983486e71"
      },
      "execution_count": null,
      "outputs": [
        {
          "output_type": "stream",
          "name": "stdout",
          "text": [
            "Student Data: {'name': 'Shanmukha', 'age': 18}\n",
            "Name: Shanmukha\n",
            "Updated Data: {'name': 'Shanmukha', 'age': 19}\n"
          ]
        }
      ]
    },
    {
      "cell_type": "markdown",
      "source": [
        "**Conditional** **Statements**\n",
        "\n",
        "Used to make decisions in code\n",
        "\n",
        "if → checks condition\n",
        "\n",
        "elif → checks another condition if first is False\n",
        "\n",
        "else → runs if all above are False\n",
        "\n"
      ],
      "metadata": {
        "id": "MSzlMGyCj9Er"
      }
    },
    {
      "cell_type": "code",
      "source": [
        "age = 18\n",
        "\n",
        "if age >= 18:\n",
        "    print(\"You are an adult\")\n",
        "elif age > 13:\n",
        "    print(\"You are a teenager\")\n",
        "else:\n",
        "    print(\"You are a child\")\n"
      ],
      "metadata": {
        "colab": {
          "base_uri": "https://localhost:8080/"
        },
        "id": "rpYbykwJkmQ2",
        "outputId": "1013556d-d1b0-4c14-8c4f-2eac0bab9888"
      },
      "execution_count": null,
      "outputs": [
        {
          "output_type": "stream",
          "name": "stdout",
          "text": [
            "You are an adult\n"
          ]
        }
      ]
    },
    {
      "cell_type": "markdown",
      "source": [
        "**Match Case**\n",
        "\n",
        "Similar to switch in other languages.\n",
        "\n"
      ],
      "metadata": {
        "id": "dtN1nT9xkvuI"
      }
    },
    {
      "cell_type": "code",
      "source": [
        "day = 7\n",
        "\n",
        "match day:\n",
        "    case 1:\n",
        "        print(\"Monday\")\n",
        "    case 2:\n",
        "        print(\"Tuesday\")\n",
        "    case 3:\n",
        "        print(\"Wednesday\")\n",
        "    case _:\n",
        "        print(\"Invalid day\")\n"
      ],
      "metadata": {
        "colab": {
          "base_uri": "https://localhost:8080/"
        },
        "id": "cFA2UluekkdP",
        "outputId": "9735e1bf-8c83-4d1f-ada7-dbd56762e0f5"
      },
      "execution_count": null,
      "outputs": [
        {
          "output_type": "stream",
          "name": "stdout",
          "text": [
            "Invalid day\n"
          ]
        }
      ]
    },
    {
      "cell_type": "markdown",
      "source": [
        "✅ Task Completed - Day01PythonBasics\n"
      ],
      "metadata": {
        "id": "TuIMSrZEohdH"
      }
    }
  ]
}